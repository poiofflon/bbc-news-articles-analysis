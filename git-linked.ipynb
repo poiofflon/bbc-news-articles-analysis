{
 "cells": [
  {
   "cell_type": "code",
   "execution_count": 1,
   "id": "4255f9f0",
   "metadata": {
    "_cell_guid": "b1076dfc-b9ad-4769-8c92-a6c4dae69d19",
    "_uuid": "8f2839f25d086af736a60e9eeb907d3b93b6e0e5",
    "collapsed": true,
    "execution": {
     "iopub.execute_input": "2022-05-14T21:01:56.540345Z",
     "iopub.status.busy": "2022-05-14T21:01:56.539342Z",
     "iopub.status.idle": "2022-05-14T21:01:56.550787Z",
     "shell.execute_reply": "2022-05-14T21:01:56.549638Z"
    },
    "jupyter": {
     "outputs_hidden": true
    },
    "papermill": {
     "duration": 0.019238,
     "end_time": "2022-05-14T21:01:56.553111",
     "exception": false,
     "start_time": "2022-05-14T21:01:56.533873",
     "status": "completed"
    },
    "tags": []
   },
   "outputs": [
    {
     "name": "stdout",
     "output_type": "stream",
     "text": [
      "/kaggle/working/__notebook__.ipynb\n",
      "1\n"
     ]
    }
   ],
   "source": [
    "# This Python 3 environment comes with many helpful analytics libraries installed\n",
    "# It is defined by the kaggle/python Docker image: https://github.com/kaggle/docker-python\n",
    "# For example, here's several helpful packages to load\n",
    "\n",
    "import numpy as np # linear algebra\n",
    "import pandas as pd # data processing, CSV file I/O (e.g. pd.read_csv)\n",
    "\n",
    "# Input data files are available in the read-only \"../input/\" directory\n",
    "# For example, running this (by clicking run or pressing Shift+Enter) will list all files under the input directory\n",
    "\n",
    "import os\n",
    "for dirname, _, filenames in os.walk('/kaggle/working'):\n",
    "    for filename in filenames:\n",
    "        print(os.path.join(dirname, filename))\n",
    "        \n",
    "        \n",
    "print(1)"
   ]
  },
  {
   "cell_type": "code",
   "execution_count": 2,
   "id": "a36c0e61",
   "metadata": {
    "execution": {
     "iopub.execute_input": "2022-05-14T21:01:56.562112Z",
     "iopub.status.busy": "2022-05-14T21:01:56.561610Z",
     "iopub.status.idle": "2022-05-14T21:01:58.724451Z",
     "shell.execute_reply": "2022-05-14T21:01:58.723287Z"
    },
    "papermill": {
     "duration": 2.169862,
     "end_time": "2022-05-14T21:01:58.726954",
     "exception": false,
     "start_time": "2022-05-14T21:01:56.557092",
     "status": "completed"
    },
    "tags": []
   },
   "outputs": [
    {
     "name": "stdout",
     "output_type": "stream",
     "text": [
      "Cloning into 'bbc-news-articles-analysis'...\r\n",
      "remote: Enumerating objects: 17, done.\u001b[K\r\n",
      "remote: Counting objects: 100% (17/17), done.\u001b[K\r\n",
      "remote: Compressing objects: 100% (13/13), done.\u001b[K\r\n",
      "remote: Total 17 (delta 1), reused 13 (delta 1), pack-reused 0\u001b[K\r\n",
      "Unpacking objects: 100% (17/17), 3.63 KiB | 619.00 KiB/s, done.\r\n",
      "fatal: not a git repository (or any parent up to mount point /kaggle)\r\n",
      "Stopping at filesystem boundary (GIT_DISCOVERY_ACROSS_FILESYSTEM not set).\r\n"
     ]
    }
   ],
   "source": [
    "# !cd /kaggle/working/\n",
    "!git clone https://github.com/poiofflon/bbc-news-articles-analysis.git\n",
    "!git pull"
   ]
  }
 ],
 "metadata": {
  "kernelspec": {
   "display_name": "Python 3",
   "language": "python",
   "name": "python3"
  },
  "language_info": {
   "codemirror_mode": {
    "name": "ipython",
    "version": 3
   },
   "file_extension": ".py",
   "mimetype": "text/x-python",
   "name": "python",
   "nbconvert_exporter": "python",
   "pygments_lexer": "ipython3",
   "version": "3.7.12"
  },
  "papermill": {
   "default_parameters": {},
   "duration": 11.700213,
   "end_time": "2022-05-14T21:01:59.455094",
   "environment_variables": {},
   "exception": null,
   "input_path": "__notebook__.ipynb",
   "output_path": "__notebook__.ipynb",
   "parameters": {},
   "start_time": "2022-05-14T21:01:47.754881",
   "version": "2.3.4"
  }
 },
 "nbformat": 4,
 "nbformat_minor": 5
}
